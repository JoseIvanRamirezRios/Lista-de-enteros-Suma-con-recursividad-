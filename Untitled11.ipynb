{
  "nbformat": 4,
  "nbformat_minor": 0,
  "metadata": {
    "colab": {
      "name": "Untitled11.ipynb",
      "provenance": [],
      "collapsed_sections": [],
      "authorship_tag": "ABX9TyM7SeGI7M1wJB73A4kqPUjU",
      "include_colab_link": true
    },
    "kernelspec": {
      "name": "python3",
      "display_name": "Python 3"
    },
    "language_info": {
      "name": "python"
    }
  },
  "cells": [
    {
      "cell_type": "markdown",
      "metadata": {
        "id": "view-in-github",
        "colab_type": "text"
      },
      "source": [
        "<a href=\"https://colab.research.google.com/github/JoseIvanRamirezRios/Tarea-2/blob/main/Untitled11.ipynb\" target=\"_parent\"><img src=\"https://colab.research.google.com/assets/colab-badge.svg\" alt=\"Open In Colab\"/></a>"
      ]
    },
    {
      "cell_type": "code",
      "metadata": {
        "id": "egPWZCdDz8oz"
      },
      "source": [
        "class Array2D():\n",
        "  \n",
        "  def __init__(self, ren, col):\n",
        "    self.__columnas = col\n",
        "    self.__renglones = ren\n",
        "    self.__data = [[ 0 for i in range(col)]for i in range (ren)]\n",
        "\n",
        "  def to_string(self):\n",
        "    print(self.__data)\n",
        "    for i in range(self.__renglones):\n",
        "      print(self.__data[i])\n",
        "\n",
        "  def clear(self, dato):\n",
        "    for i in range (self.__renglones):\n",
        "      for x in range(self.__columnas):\n",
        "        self.__data[i][x] = dato\n",
        "\n",
        "  def get_row_size(self):\n",
        "    return self.__renglones\n",
        "  def get_col_size(self):\n",
        "    return self.__columnas\n",
        "  \n",
        "  def set_item(self,ren,col,dato):\n",
        "    self.__data[ren][col] = dato\n",
        "\n",
        "  def get_item(self,ren,col):\n",
        "    return self.__data[ren][col]             \n"
      ],
      "execution_count": null,
      "outputs": []
    },
    {
      "cell_type": "code",
      "metadata": {
        "colab": {
          "base_uri": "https://localhost:8080/"
        },
        "id": "Ed82w1jS-FWb",
        "outputId": "646ba556-04a4-422d-a667-19930711790c"
      },
      "source": [
        "tablero= Array2D(6 , 5)\n",
        "tablero.to_string()\n",
        "tablero.clear('M')\n",
        "print(\"-----Poblacion inicial-----\")\n",
        "tablero.to_string()\n",
        "print(\"-----Una idea de como establecer la poblacion inicial----\")\n",
        "poblacion_inicial=[(2,  2),(3, 1),(3, 3),(3, 2)]\n",
        "for par in poblacion_inicial:\n",
        "    tablero.set_item(par[0],par[1],'v')\n",
        "\n",
        "tablero.to_string()    \n",
        "\n",
        "print(tablero.get_col_size())\n",
        "print(tablero.get_row_size())\n",
        "\n",
        "celula = tablero.get_item(2,1)\n",
        "print(celula)\n",
        "\n",
        "celula = tablero.get_item(2,2)\n",
        "print(celula)\n",
        "\n",
        "\n",
        "\n",
        "\n",
        "\n"
      ],
      "execution_count": null,
      "outputs": [
        {
          "output_type": "stream",
          "name": "stdout",
          "text": [
            "[[0, 0, 0, 0, 0], [0, 0, 0, 0, 0], [0, 0, 0, 0, 0], [0, 0, 0, 0, 0], [0, 0, 0, 0, 0], [0, 0, 0, 0, 0]]\n",
            "[0, 0, 0, 0, 0]\n",
            "[0, 0, 0, 0, 0]\n",
            "[0, 0, 0, 0, 0]\n",
            "[0, 0, 0, 0, 0]\n",
            "[0, 0, 0, 0, 0]\n",
            "[0, 0, 0, 0, 0]\n",
            "-----Poblacion inicial-----\n",
            "[['M', 'M', 'M', 'M', 'M'], ['M', 'M', 'M', 'M', 'M'], ['M', 'M', 'M', 'M', 'M'], ['M', 'M', 'M', 'M', 'M'], ['M', 'M', 'M', 'M', 'M'], ['M', 'M', 'M', 'M', 'M']]\n",
            "['M', 'M', 'M', 'M', 'M']\n",
            "['M', 'M', 'M', 'M', 'M']\n",
            "['M', 'M', 'M', 'M', 'M']\n",
            "['M', 'M', 'M', 'M', 'M']\n",
            "['M', 'M', 'M', 'M', 'M']\n",
            "['M', 'M', 'M', 'M', 'M']\n",
            "-----Una idea de como establecer la poblacion inicial----\n",
            "[['M', 'M', 'M', 'M', 'M'], ['M', 'M', 'M', 'M', 'M'], ['M', 'M', 'v', 'M', 'M'], ['M', 'v', 'v', 'v', 'M'], ['M', 'M', 'M', 'M', 'M'], ['M', 'M', 'M', 'M', 'M']]\n",
            "['M', 'M', 'M', 'M', 'M']\n",
            "['M', 'M', 'M', 'M', 'M']\n",
            "['M', 'M', 'v', 'M', 'M']\n",
            "['M', 'v', 'v', 'v', 'M']\n",
            "['M', 'M', 'M', 'M', 'M']\n",
            "['M', 'M', 'M', 'M', 'M']\n",
            "5\n",
            "6\n",
            "M\n",
            "v\n"
          ]
        }
      ]
    },
    {
      "cell_type": "code",
      "metadata": {
        "id": "ToARnDL2K-cJ"
      },
      "source": [
        "class JuegoDeLaVidaADT:\n",
        "    def _init_( self, rens, cols, list_pob_in, generaciones ):\n",
        "        self.tablero = Array2D( rens, cols )\n",
        "        self.generaciones = generaciones\n",
        "        self.gen = 1\n",
        "        self.tablero.clear( 'M' )\n",
        "        self.ren = rens \n",
        "        self.col = cols \n",
        "        for par in list_pob_in:\n",
        "            self.tablero.set_item( par[ 0 ], par[ 1 ], 'V' )\n",
        "        self.corEnTablero()\n",
        "    \n",
        "    def formato( self ):\n",
        "        formato = self.tablero.get_info()\n",
        "\n",
        "        for i in range( len(formato) ):\n",
        "            row = formato[i]\n",
        "            str = ' '\n",
        "            for i in range( len( row )):\n",
        "                if row[i] == 'M':\n",
        "                    str = str + chalk.black( row[i] ) + ' '\n",
        "                elif row[i] == 'V':\n",
        "                    str = str + chalk.green( row[i] ) + ' '\n",
        "            print(str)\n",
        "\n",
        "    def to_string( self ):\n",
        "        for i in range( self.generaciones ):\n",
        "            print( f' --- GENERACION { self.gen } --- ')\n",
        "            self.formato()\n",
        "            self.aplicarReglas()\n",
        "\n",
        "        \n",
        "\n",
        "    def get_vecinos(self, r, c):\n",
        "        vecinos = []\n",
        "        for ren in range( r-1, r+2, 1 ):\n",
        "            for col in range( c-1, c+2, 1 ):\n",
        "                if ren >= 0 and col >= 0 and ren < self.ren and col < self.col :\n",
        "                    par = [ ren, col ]\n",
        "                    estePar = [ r, c ]\n",
        "                    if par != estePar:\n",
        "                        vecinos.append( [ ren, col ] )\n",
        "        \n",
        "        # print(vecinos)\n",
        "        return vecinos\n",
        "\n",
        "    def vecinosVivos(self , r, c):\n",
        "        vecinosVivos = 0\n",
        "        for par in self.get_vecinos(r, c):\n",
        "            vecino = self.tablero.get_item( par[0], par[1] )\n",
        "            if vecino == 'V':\n",
        "                vecinosVivos += 1\n",
        "        return vecinosVivos\n",
        "\n",
        "    def corEnTablero( self ):\n",
        "        cors = []\n",
        "        for ren in range( self.ren ):\n",
        "            for col in range( self.col ):\n",
        "                cor = [ ren, col ]\n",
        "                cors.append(cor)\n",
        "        self.cors = cors \n",
        "\n",
        "    def aplicarReglas( self ):\n",
        "        nuevoEstado = []\n",
        "\n",
        "        for cor in self.cors:\n",
        "            vivos = self.vecinosVivos( cor[0], cor[1] )\n",
        "            estado = self.tablero.get_item( cor[0], cor[1] )\n",
        "            \n",
        "            # print(estado)\n",
        "            # print(vivos)\n",
        "            if estado == 'V':\n",
        "                if vivos == 2 or vivos == 3:\n",
        "                    nuevoEstado.append('V')\n",
        "                elif vivos == 1 or vivos == 0:\n",
        "                    nuevoEstado.append('M')\n",
        "                elif vivos >= 4 :\n",
        "                    nuevoEstado.append('M')\n",
        "            elif estado  == 'M':\n",
        "                if vivos == 3 :\n",
        "                    nuevoEstado.append('V')\n",
        "                else:\n",
        "                    nuevoEstado.append('M')\n",
        "            # print(nuevoEstado)\n",
        "\n",
        "        for cor in self.cors:\n",
        "            self.tablero.set_item( cor[0], cor[1] ,nuevoEstado[0])\n",
        "            nuevoEstado.pop( 0 )\n",
        "\n",
        "        self.gen += 1"
      ],
      "execution_count": null,
      "outputs": []
    },
    {
      "cell_type": "code",
      "metadata": {
        "id": "P-ZmCmkZSTGD"
      },
      "source": [
        "class Array2D():\n",
        "    def _init_( self, row, col ):\n",
        "        self.__row = row\n",
        "        self.__col = col\n",
        "        self._data = [[] for x in range(self._row)]\n",
        "        for i in range( len(self.__data) ):\n",
        "            self._data[i] = [1 for x in range(self._col)]\n",
        "\n",
        "    def get_info(self):\n",
        "        return self.__data\n",
        "    \n",
        "    def to_string( self ):\n",
        "        for i in range( len(self.__data) ):\n",
        "            print( self.__data[i])\n",
        "    \n",
        "    def set_item( self, row, col, dato ):\n",
        "        self.__data[row][col] = dato\n",
        "    \n",
        "    def get_item( self, row, col):\n",
        "        return self.__data[row][col]\n",
        "\n",
        "    def get_row_size( self ):\n",
        "        return self.__row\n",
        "\n",
        "    def get_col_size( self ):\n",
        "        return self.__col\n",
        "\n",
        "    def clear( self, dato ):\n",
        "        for i in range( len(self.__data) ):\n",
        "            self._data[i] = [dato for x in range(self._col)]\n",
        "\n",
        "    def clearCol( self, col, dato ):\n",
        "        self._data[col] = [dato for x in range(self._col)]"
      ],
      "execution_count": null,
      "outputs": []
    },
    {
      "cell_type": "code",
      "metadata": {
        "colab": {
          "base_uri": "https://localhost:8080/"
        },
        "id": "tMUBwcjfDEbl",
        "outputId": "d28e0981-5bef-40da-a066-f78d3527d1a1"
      },
      "source": [
        "!pip install simple_chalk\n"
      ],
      "execution_count": null,
      "outputs": [
        {
          "output_type": "stream",
          "name": "stdout",
          "text": [
            "Collecting simple_chalk\n",
            "  Downloading simple_chalk-0.1.0.tar.gz (13 kB)\n",
            "Building wheels for collected packages: simple-chalk\n",
            "  Building wheel for simple-chalk (setup.py) ... \u001b[?25l\u001b[?25hdone\n",
            "  Created wheel for simple-chalk: filename=simple_chalk-0.1.0-py3-none-any.whl size=22163 sha256=b064546dafdff332e9b68671de082ff4ad09b17b96c2464b3f0311ba7f016121\n",
            "  Stored in directory: /root/.cache/pip/wheels/24/e2/84/d54838032016039eef79df1137b91defaa6db068d825dfcdcd\n",
            "Successfully built simple-chalk\n",
            "Installing collected packages: simple-chalk\n",
            "Successfully installed simple-chalk-0.1.0\n"
          ]
        }
      ]
    },
    {
      "cell_type": "code",
      "metadata": {
        "colab": {
          "base_uri": "https://localhost:8080/",
          "height": 229
        },
        "id": "khKeNaf-M0S4",
        "outputId": "e650e46d-7c0d-4464-a4f4-6b23ece4c3ca"
      },
      "source": [
        "juego = JuegoDeLaVidaADT(6,5,[(2,  2),(3, 1),(3, 3),(3, 2)],5)\n",
        "juego.to_string()\n",
        "print(\"Vecinos de 5,4\")\n",
        "print(juego.get_vecinos(5,4))\n",
        "r=2\n",
        "c=2\n",
        "print(f\"Vecinos vivos de {r},{c} son {juego.get_vecinos_vivos(r,c)}\")\n"
      ],
      "execution_count": null,
      "outputs": [
        {
          "output_type": "error",
          "ename": "TypeError",
          "evalue": "ignored",
          "traceback": [
            "\u001b[0;31m---------------------------------------------------------------------------\u001b[0m",
            "\u001b[0;31mTypeError\u001b[0m                                 Traceback (most recent call last)",
            "\u001b[0;32m<ipython-input-12-d329d91ee5d3>\u001b[0m in \u001b[0;36m<module>\u001b[0;34m()\u001b[0m\n\u001b[0;32m----> 1\u001b[0;31m \u001b[0mjuego\u001b[0m \u001b[0;34m=\u001b[0m \u001b[0mJuegoDeLaVidaADT\u001b[0m\u001b[0;34m(\u001b[0m\u001b[0;36m6\u001b[0m\u001b[0;34m,\u001b[0m\u001b[0;36m5\u001b[0m\u001b[0;34m,\u001b[0m\u001b[0;34m[\u001b[0m\u001b[0;34m(\u001b[0m\u001b[0;36m2\u001b[0m\u001b[0;34m,\u001b[0m  \u001b[0;36m2\u001b[0m\u001b[0;34m)\u001b[0m\u001b[0;34m,\u001b[0m\u001b[0;34m(\u001b[0m\u001b[0;36m3\u001b[0m\u001b[0;34m,\u001b[0m \u001b[0;36m1\u001b[0m\u001b[0;34m)\u001b[0m\u001b[0;34m,\u001b[0m\u001b[0;34m(\u001b[0m\u001b[0;36m3\u001b[0m\u001b[0;34m,\u001b[0m \u001b[0;36m3\u001b[0m\u001b[0;34m)\u001b[0m\u001b[0;34m,\u001b[0m\u001b[0;34m(\u001b[0m\u001b[0;36m3\u001b[0m\u001b[0;34m,\u001b[0m \u001b[0;36m2\u001b[0m\u001b[0;34m)\u001b[0m\u001b[0;34m]\u001b[0m\u001b[0;34m,\u001b[0m\u001b[0;36m5\u001b[0m\u001b[0;34m)\u001b[0m\u001b[0;34m\u001b[0m\u001b[0;34m\u001b[0m\u001b[0m\n\u001b[0m\u001b[1;32m      2\u001b[0m \u001b[0mjuego\u001b[0m\u001b[0;34m.\u001b[0m\u001b[0mto_string\u001b[0m\u001b[0;34m(\u001b[0m\u001b[0;34m)\u001b[0m\u001b[0;34m\u001b[0m\u001b[0;34m\u001b[0m\u001b[0m\n\u001b[1;32m      3\u001b[0m \u001b[0mprint\u001b[0m\u001b[0;34m(\u001b[0m\u001b[0;34m\"Vecinos de 5,4\"\u001b[0m\u001b[0;34m)\u001b[0m\u001b[0;34m\u001b[0m\u001b[0;34m\u001b[0m\u001b[0m\n\u001b[1;32m      4\u001b[0m \u001b[0mprint\u001b[0m\u001b[0;34m(\u001b[0m\u001b[0mjuego\u001b[0m\u001b[0;34m.\u001b[0m\u001b[0mget_vecinos\u001b[0m\u001b[0;34m(\u001b[0m\u001b[0;36m5\u001b[0m\u001b[0;34m,\u001b[0m\u001b[0;36m4\u001b[0m\u001b[0;34m)\u001b[0m\u001b[0;34m)\u001b[0m\u001b[0;34m\u001b[0m\u001b[0;34m\u001b[0m\u001b[0m\n\u001b[1;32m      5\u001b[0m \u001b[0mr\u001b[0m\u001b[0;34m=\u001b[0m\u001b[0;36m2\u001b[0m\u001b[0;34m\u001b[0m\u001b[0;34m\u001b[0m\u001b[0m\n",
            "\u001b[0;31mTypeError\u001b[0m: JuegoDeLaVidaADT() takes no arguments"
          ]
        }
      ]
    }
  ]
}