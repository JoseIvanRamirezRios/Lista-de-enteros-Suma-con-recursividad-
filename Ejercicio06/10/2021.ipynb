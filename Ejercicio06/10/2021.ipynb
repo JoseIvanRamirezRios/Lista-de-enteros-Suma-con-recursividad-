{
  "nbformat": 4,
  "nbformat_minor": 0,
  "metadata": {
    "colab": {
      "name": "Untitled10.ipynb",
      "provenance": [],
      "authorship_tag": "ABX9TyNPjpnuz3dHGzT3+AltShHb",
      "include_colab_link": true
    },
    "kernelspec": {
      "name": "python3",
      "display_name": "Python 3"
    },
    "language_info": {
      "name": "python"
    }
  },
  "cells": [
    {
      "cell_type": "markdown",
      "metadata": {
        "id": "view-in-github",
        "colab_type": "text"
      },
      "source": [
        "<a href=\"https://colab.research.google.com/github/JoseIvanRamirezRios/Tarea-2/blob/main/Ejercicio06/10/2021.ipynb\" target=\"_parent\"><img src=\"https://colab.research.google.com/assets/colab-badge.svg\" alt=\"Open In Colab\"/></a>"
      ]
    },
    {
      "cell_type": "code",
      "metadata": {
        "id": "SuwANrEsSRYZ"
      },
      "source": [
        "class Nodo:\n",
        "     def __init__(self, value, siguiente=None):\n",
        "        self.data=value\n",
        "        self.next=siguiente"
      ],
      "execution_count": 1,
      "outputs": []
    },
    {
      "cell_type": "code",
      "metadata": {
        "colab": {
          "base_uri": "https://localhost:8080/"
        },
        "id": "6SNevUykTkKl",
        "outputId": "fe376523-d740-4b14-f80a-5295ce686d2a"
      },
      "source": [
        "punto_entrada=Nodo(30)\n",
        "punto_entrada.next=Nodo(15)\n",
        "print(punto_entrada.data)\n",
        "print(punto_entrada.next.data)\n",
        "\n",
        "print(\"Hacer lo mismo pero con el segundo metodo\")\n",
        "\n",
        "print(punto_entrada.data)\n",
        "print(punto_entrada.next.data)\n",
        "\n"
      ],
      "execution_count": 3,
      "outputs": [
        {
          "output_type": "stream",
          "name": "stdout",
          "text": [
            "30\n",
            "15\n",
            "Hacer lo mismo pero con el segundo metodo\n",
            "30\n",
            "15\n"
          ]
        }
      ]
    },
    {
      "cell_type": "code",
      "metadata": {
        "id": "c2p9W1_Dai86"
      },
      "source": [
        ""
      ],
      "execution_count": null,
      "outputs": []
    }
  ]
}